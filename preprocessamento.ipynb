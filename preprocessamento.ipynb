{
  "nbformat": 4,
  "nbformat_minor": 0,
  "metadata": {
    "colab": {
      "name": "preprocessamento.ipynb",
      "provenance": [],
      "collapsed_sections": [],
      "include_colab_link": true
    },
    "kernelspec": {
      "name": "python3",
      "display_name": "Python 3"
    }
  },
  "cells": [
    {
      "cell_type": "markdown",
      "metadata": {
        "id": "view-in-github",
        "colab_type": "text"
      },
      "source": [
        "<a href=\"https://colab.research.google.com/github/mateusrt/tcc/blob/master/preprocessamento.ipynb\" target=\"_parent\"><img src=\"https://colab.research.google.com/assets/colab-badge.svg\" alt=\"Open In Colab\"/></a>"
      ]
    },
    {
      "cell_type": "code",
      "metadata": {
        "id": "uf6OLJFVkbwC",
        "colab_type": "code",
        "colab": {
          "base_uri": "https://localhost:8080/",
          "height": 124
        },
        "outputId": "9f3356e2-9fc8-4b1d-c882-82f65b4f104b"
      },
      "source": [
        "# Mount Google Drive\n",
        "from google.colab import drive # import drive from google colab\n",
        "\n",
        "ROOT = \"/content/drive\"     # default location for the drive\n",
        "drive.mount(ROOT)           # we mount the google drive at /content/drive"
      ],
      "execution_count": 1,
      "outputs": [
        {
          "output_type": "stream",
          "text": [
            "Go to this URL in a browser: https://accounts.google.com/o/oauth2/auth?client_id=947318989803-6bn6qk8qdgf4n4g3pfee6491hc0brc4i.apps.googleusercontent.com&redirect_uri=urn%3aietf%3awg%3aoauth%3a2.0%3aoob&response_type=code&scope=email%20https%3a%2f%2fwww.googleapis.com%2fauth%2fdocs.test%20https%3a%2f%2fwww.googleapis.com%2fauth%2fdrive%20https%3a%2f%2fwww.googleapis.com%2fauth%2fdrive.photos.readonly%20https%3a%2f%2fwww.googleapis.com%2fauth%2fpeopleapi.readonly\n",
            "\n",
            "Enter your authorization code:\n",
            "··········\n",
            "Mounted at /content/drive\n"
          ],
          "name": "stdout"
        }
      ]
    },
    {
      "cell_type": "code",
      "metadata": {
        "id": "k04_uOJ9G6b-",
        "colab_type": "code",
        "colab": {}
      },
      "source": [
        "from itertools import tee\n",
        "\n",
        "import time\n",
        "import numpy as np\n",
        "\n",
        "from scipy.io import loadmat\n",
        "from pywt import dwt, wavedec\n",
        "from sklearn.decomposition import PCA"
      ],
      "execution_count": 2,
      "outputs": []
    },
    {
      "cell_type": "code",
      "metadata": {
        "id": "ODvIVrd_HaYC",
        "colab_type": "code",
        "colab": {}
      },
      "source": [
        "class Segmento:\n",
        "    def __init__(self):\n",
        "        self.segmento = np.empty(0)\n",
        "\n",
        "    def __repr__(self):\n",
        "        return (f'\\n{self.__class__.__name__}: \\n'\n",
        "                f'{self.segmento}')\n",
        "\n",
        "\n",
        "class Estimulo:\n",
        "    def __init__(self, qtd_segmentos):\n",
        "        self.segmentos = np.array(([Segmento() for _ in range(qtd_segmentos)]))\n",
        "\n",
        "    def __repr__(self):\n",
        "        return (f'\\n{self.__class__.__name__}: \\n'\n",
        "                f'{self.segmentos}')"
      ],
      "execution_count": 3,
      "outputs": []
    },
    {
      "cell_type": "code",
      "metadata": {
        "id": "qQ_eI26NsLen",
        "colab_type": "code",
        "colab": {}
      },
      "source": [
        "def pairwise(iterable):\n",
        "    \"s -> (s0,s1), (s1,s2), (s2, s3), ...\"\n",
        "    a, b = tee(iterable)\n",
        "    next(b, None)\n",
        "    return zip(a, b)"
      ],
      "execution_count": 4,
      "outputs": []
    },
    {
      "cell_type": "code",
      "metadata": {
        "id": "sZchPCKsHb9f",
        "colab_type": "code",
        "colab": {}
      },
      "source": [
        "def reducao_pca(sinal, qtd_componentes):\n",
        "    \"\"\"Função para fazer a redução de conjunto de dados para uma dada quantidade de componentes\n",
        "\n",
        "    Arguments:\n",
        "        sinal {array} -- Array com os dados que serão reduzidos.\n",
        "        qtd_componentes {int} -- Quantidade de elementos que será reduzido o sinal.\n",
        "    \"\"\"\n",
        "\n",
        "    pca = PCA(qtd_componentes)\n",
        "    pca.fit(sinal)\n",
        "\n",
        "    componentes = pca.transform(sinal)\n",
        "\n",
        "    return componentes"
      ],
      "execution_count": 5,
      "outputs": []
    },
    {
      "cell_type": "code",
      "metadata": {
        "id": "FvVmc0FIHk3l",
        "colab_type": "code",
        "colab": {}
      },
      "source": [
        "def transformada_wavelet(sinal, onda_mae, nivel=1, qtd_componentes=0):\n",
        "    \"\"\"Função para fazer a transformada wavelet discreta de um dado sinal\n",
        "\n",
        "    Arguments:\n",
        "        sinal {array} -- Array do sinal a ser transformado.\n",
        "        onda_mae {string} -- Onda base que será utilizada para a transformada.\n",
        "\n",
        "    Keyword Arguments:\n",
        "        nivel {int} -- Nível de decomposição do sinal (default: {1})\n",
        "        qtd_componentes {int} -- Quantidade de elementos para o qual será reduzido o sinal\n",
        "        (default: {0})\n",
        "    \"\"\"\n",
        "\n",
        "    sinal = sinal.transpose()\n",
        "\n",
        "    if (nivel > 1):\n",
        "        coeficientes = wavedec(sinal, onda_mae, level=nivel)\n",
        "    else:\n",
        "        coeficientes = dwt(sinal, onda_mae)\n",
        "\n",
        "    componentes = [np.empty((qtd_canais, qtd_componentes)) for _ in range(nivel + 1)]\n",
        "\n",
        "    if (qtd_componentes > 0):\n",
        "        for i in range(nivel + 1):\n",
        "            componentes[i] = reducao_pca(coeficientes[i], qtd_componentes)\n",
        "\n",
        "    return np.asarray(componentes)"
      ],
      "execution_count": 6,
      "outputs": []
    },
    {
      "cell_type": "code",
      "metadata": {
        "id": "1IN1Je3mHoog",
        "colab_type": "code",
        "colab": {}
      },
      "source": [
        "def segmentar_sinal(sinal, qtd_segmentos, duracao, sobreposicao=0):\n",
        "    qtd_pontos = len(sinal)\n",
        "\n",
        "    sobreposicao = int(qtd_pontos * sobreposicao / (duracao * 1000))\n",
        "\n",
        "    passo, resto = divmod(qtd_pontos, qtd_segmentos)\n",
        "\n",
        "    segmentos = np.array(([Segmento() for _ in range(qtd_segmentos)]))\n",
        "\n",
        "    for seg in range(qtd_segmentos):\n",
        "        inicio = seg * (passo - sobreposicao)\n",
        "        fim = inicio + passo - 1 + resto\n",
        "\n",
        "        segmentos[seg].segmento = sinal[inicio:fim, :]\n",
        "\n",
        "    return segmentos"
      ],
      "execution_count": 7,
      "outputs": []
    },
    {
      "cell_type": "code",
      "metadata": {
        "id": "OdPGRlGaHngG",
        "colab_type": "code",
        "colab": {}
      },
      "source": [
        "def carregar_gestos(emg, estimulo, repeticao, pes):\n",
        "    inicio = pes * qtd_segmentos_gesto\n",
        "    fim = (pes + 1) * qtd_segmentos_gesto\n",
        "\n",
        "    for ges in range(qtd_gestos):\n",
        "        aux = (estimulo == (ges + 1)).reshape(-1)\n",
        "\n",
        "        aux_sinal = emg[aux, :]\n",
        "        aux_repeticao = repeticao[aux]\n",
        "\n",
        "        for rep in range(qtd_repeticoes):\n",
        "            aux = (aux_repeticao == (rep + 1)).reshape(-1)\n",
        "\n",
        "            gestos[ges, rep].segmentos[inicio:fim] = segmentar_sinal(\n",
        "                aux_sinal[aux, :], qtd_segmentos_gesto, DURACAO_GESTO, 20)\n",
        "\n",
        "\n",
        "def carregar_repouso(emg, estimulo, pes):\n",
        "    inicio = pes * qtd_segmentos_repouso\n",
        "    fim = (pes + 1) * qtd_segmentos_repouso\n",
        "\n",
        "    if (qtd_gestos < 17):\n",
        "        ultimo_gesto = np.where(estimulo == qtd_gestos + 1)[0][0]\n",
        "\n",
        "        indices = np.where(estimulo[:ultimo_gesto] == 0)[0]\n",
        "    else:\n",
        "        indices = np.where(estimulo == 0)[0]\n",
        "\n",
        "    lista = np.where(np.r_[True, indices[1:-1] < indices[2:] - 1])[0]\n",
        "\n",
        "    for i in range(len(lista) - 1):\n",
        "        repouso[i].segmentos[inicio:fim] = segmentar_sinal(\n",
        "            emg[lista[i]:lista[i + 1]], qtd_segmentos_repouso, DURACAO_REPOUSO)\n",
        "\n",
        "\n",
        "def carregar_dados_mat(path):\n",
        "    for pes in range(qtd_pessoas):\n",
        "        filename = path + 'S' + str(pes + 1) + '_E1_A1.mat'\n",
        "        mat = loadmat(filename)\n",
        "\n",
        "        emg = mat['emg']\t\t\t # Array com os sinais emg\n",
        "        estimulo = mat['restimulus']    # Array de índices dos gestos\n",
        "        repeticao = mat['rerepetition']  # Array de índices de repetições dos gestos\n",
        "\n",
        "        del mat\n",
        "\n",
        "        carregar_gestos(emg, estimulo, repeticao, pes)\n",
        "\n",
        "        carregar_repouso(emg, estimulo, pes)"
      ],
      "execution_count": 8,
      "outputs": []
    },
    {
      "cell_type": "code",
      "metadata": {
        "id": "sZFrncPOH0N1",
        "colab_type": "code",
        "colab": {}
      },
      "source": [
        "def extacao_caracteristicas():\n",
        "    ti = time.time()\n",
        "\n",
        "    for ges in range(qtd_gestos):\n",
        "        for rep in range(qtd_repeticoes):\n",
        "            for seg in range(pares_gestos):\n",
        "                coef_gestos[ges, rep, seg] = transformada_wavelet(\n",
        "                    gestos[ges, rep].segmentos[seg].segmento, onda_mae, NIVEL_FILTRO, 5).reshape(-1)\n",
        "\n",
        "            for seg in range(pares_repouso):\n",
        "                coef_repouso[ges, rep, seg] = transformada_wavelet(\n",
        "                    repouso[ges * qtd_repeticoes + rep].segmentos[seg].segmento, onda_mae, NIVEL_FILTRO, 5).reshape(-1)\n",
        "\n",
        "    duracao = time.time() - ti\n",
        "    minutos, segundos = divmod(duracao, 60)\n",
        "    print('Extração de caracteristicas: %dmin %ds' % (minutos, segundos))"
      ],
      "execution_count": 9,
      "outputs": []
    },
    {
      "cell_type": "code",
      "metadata": {
        "id": "xfR1rc5zHvwy",
        "colab_type": "code",
        "colab": {}
      },
      "source": [
        "def separar_pares_treino_teste():\n",
        "    # entrada\n",
        "    treino_gestos = coef_gestos[:, treino, :].reshape((-1, qtd_entradas))\n",
        "    teste_gestos = coef_gestos[:, teste, :].reshape((-1, qtd_entradas))\n",
        "\n",
        "    teste_repouso = coef_repouso[:, teste, :].reshape((-1, qtd_entradas))\n",
        "    treino_repouso = coef_repouso[:, treino, :].reshape((-1, qtd_entradas))\n",
        "\n",
        "    # saida desejada\n",
        "    len_treino = len(treino)\n",
        "    len_teste = len(teste)\n",
        "\n",
        "    desejado_gestos = np.multiply(np.arange(qtd_gestos).reshape((-1, 1))\n",
        "                                  + 1, np.ones((qtd_gestos, len_treino * pares_gestos))).reshape(-1)\n",
        "\n",
        "    desejado_repouso = np.zeros((qtd_gestos * len_treino * pares_repouso))\n",
        "\n",
        "    y_treino = np.concatenate((desejado_repouso, desejado_gestos))\n",
        "    x_treino = np.concatenate((treino_repouso, treino_gestos))\n",
        "\n",
        "\n",
        "    desejado_gestos = np.multiply(np.arange(qtd_gestos).reshape((-1, 1))\n",
        "                                  + 1, np.ones((qtd_gestos, len_teste * pares_gestos))).reshape(-1)\n",
        "\n",
        "    desejado_repouso = np.zeros((qtd_gestos * len_teste * pares_repouso))\n",
        "\n",
        "    y_teste = np.concatenate((desejado_repouso, desejado_gestos))\n",
        "    x_teste = np.concatenate((teste_repouso, teste_gestos))\n",
        "\n",
        "    return x_treino, y_treino, x_teste, y_teste"
      ],
      "execution_count": 10,
      "outputs": []
    },
    {
      "cell_type": "code",
      "metadata": {
        "id": "wKg0Nrt64hAt",
        "colab_type": "code",
        "colab": {}
      },
      "source": [
        "def embaralhar_dados(x, y):\n",
        "    size_x = len(x)\n",
        "    assert size_x == len(y)\n",
        "\n",
        "    rng = np.random.default_rng()\n",
        "\n",
        "    embaralhado = rng.permutation(size_x)\n",
        "\n",
        "    return x[embaralhado], y[embaralhado]"
      ],
      "execution_count": 19,
      "outputs": []
    },
    {
      "cell_type": "code",
      "metadata": {
        "id": "DJDiTW0q5K7Y",
        "colab_type": "code",
        "colab": {}
      },
      "source": [
        "def entrada_saida():\n",
        "    desejado_gestos = np.multiply(np.arange(qtd_gestos).reshape((-1, 1)) + 1,\n",
        "                                  np.ones((qtd_gestos,\n",
        "                                           qtd_repeticoes \n",
        "                                           * pares_gestos))).reshape(-1)\n",
        "\n",
        "    desejado_repouso = np.zeros((qtd_gestos * qtd_repeticoes * pares_repouso))\n",
        "\n",
        "    saida_desejada = np.concatenate((desejado_repouso, desejado_gestos))\n",
        "    \n",
        "    entrada = np.concatenate((coef_repouso.reshape((-1, qtd_entradas)), \n",
        "                              coef_gestos.reshape((-1, qtd_entradas))))\n",
        "\n",
        "    entrada, saida_desejada = embaralhar_dados(entrada, saida_desejada)\n",
        "\n",
        "    return entrada, saida_desejada\n"
      ],
      "execution_count": null,
      "outputs": []
    },
    {
      "cell_type": "code",
      "metadata": {
        "id": "qs0IlxsO1dz_",
        "colab_type": "code",
        "colab": {}
      },
      "source": [
        "def separar_pares_treino_teste_completo(prop_treino = 0.7):\n",
        "    entrada, saida_desejada = entrada_saida()\n",
        "\n",
        "    qtd_pares = len(saida_desejada)\n",
        "    qtd_pares_treino = round(qtd_pares * prop_treino)\n",
        "\n",
        "    x_treino = entrada[:qtd_pares_treino]\n",
        "    y_treino = saida_desejada[:qtd_pares_treino]\n",
        "\n",
        "    x_teste = entrada[qtd_pares_treino:]\n",
        "    y_teste = saida_desejada[qtd_pares_treino:]\n",
        "\n",
        "    return x_treino, y_treino, x_teste, y_teste"
      ],
      "execution_count": 17,
      "outputs": []
    },
    {
      "cell_type": "code",
      "metadata": {
        "id": "VqGlb4JbMWm8",
        "colab_type": "code",
        "colab": {
          "base_uri": "https://localhost:8080/",
          "height": 69
        },
        "outputId": "68d7f60a-d723-49bd-f0f7-ccda030aed99"
      },
      "source": [
        "if __name__ == \"__main__\":\n",
        "\n",
        "    path = 'drive/My Drive/TCC/database/cru/'\n",
        "    # Separar gestos\n",
        "\n",
        "    qtd_pessoas = 1\n",
        "    qtd_gestos = 2\n",
        "    qtd_repeticoes = 6\n",
        "\n",
        "    qtd_canais = 12\n",
        "\n",
        "    NIVEL_FILTRO = 1\n",
        "    onda_mae = 'coif4'\n",
        "\n",
        "    DURACAO_GESTO = 5\n",
        "    DURACAO_REPOUSO = 3\n",
        "    duracao_segmento = 0.2\n",
        "\n",
        "    qtd_segmentos_gesto = int(DURACAO_GESTO / duracao_segmento)\n",
        "    qtd_segmentos_repouso = int(DURACAO_REPOUSO / duracao_segmento)\n",
        "\n",
        "    qtd_movimentos = qtd_gestos * qtd_repeticoes\n",
        "\n",
        "    pares_gestos = qtd_pessoas * qtd_segmentos_gesto\n",
        "    pares_repouso = qtd_pessoas * qtd_segmentos_repouso\n",
        "\n",
        "    gestos = np.array(\n",
        "        ([Estimulo(qtd_segmentos_gesto * qtd_pessoas) for _ in range(qtd_movimentos)]))\n",
        "\n",
        "    repouso = np.array(\n",
        "        ([Estimulo(qtd_segmentos_repouso * qtd_pessoas) for _ in range(qtd_movimentos)]))\n",
        "\n",
        "    gestos = gestos.reshape(qtd_gestos, qtd_repeticoes)\n",
        "\n",
        "    # separar treino e teste\n",
        "    treino = [0, 1, 4, 2]\n",
        "    teste = [3, 5]\n",
        "\n",
        "    carregar_dados_mat(path)\n",
        "\n",
        "    pares_gestos = qtd_pessoas * qtd_segmentos_gesto\n",
        "    pares_repouso = qtd_pessoas * qtd_segmentos_repouso\n",
        "\n",
        "    # extração de caracteristicas\n",
        "    qtd_entradas = len(transformada_wavelet(\n",
        "        gestos[0, 0].segmentos[0].segmento, onda_mae, NIVEL_FILTRO, 5).reshape(-1))\n",
        "\n",
        "    coef_gestos = np.empty((qtd_gestos, qtd_repeticoes, pares_gestos, qtd_entradas))\n",
        "\n",
        "    coef_repouso = np.empty((qtd_gestos, qtd_repeticoes, pares_repouso, qtd_entradas))\n",
        "\n",
        "    extacao_caracteristicas()\n",
        "\n",
        "    x_treino, y_treino, x_teste, y_teste = separar_pares_treino_teste_completo()\n",
        "\n",
        "    np.savez_compressed('drive/My Drive/TCC/database/G' + str(qtd_gestos) + '/' + onda_mae, x_teste=x_teste, y_teste=y_teste, y_treino=y_treino, x_treino=x_treino)\n",
        "\n"
      ],
      "execution_count": 29,
      "outputs": [
        {
          "output_type": "stream",
          "text": [
            "Extração de caracteristicas: 0min 0s\n",
            "(480,)\n",
            "(480, 120)\n"
          ],
          "name": "stdout"
        }
      ]
    }
  ]
}